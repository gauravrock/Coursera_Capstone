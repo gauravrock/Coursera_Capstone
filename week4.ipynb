{
 "cells": [
  {
   "cell_type": "markdown",
   "metadata": {},
   "source": [
    "# Singapore Visitors and Expatriates Venue Recommendation"
   ]
  },
  {
   "cell_type": "markdown",
   "metadata": {},
   "source": [
    "## I. PURPOSE\n",
    "\n",
    "This document provides the details of my final peer reviewed assignment for the IBM Data Science Professional Certificate program – Coursera Capstone."
   ]
  },
  {
   "cell_type": "markdown",
   "metadata": {},
   "source": [
    "# II. INTRODUCTION¶\n",
    "Singapore is a small country and one of the most visited countries in Asia. There are a lot of websites where travelers can check and retrieve recommendations of places to stay or visit. However, most of these websites provides recommendation simply based on usual tourist attractions or key residential areas that are mostly expensive or already known for travelers based on certain keywords like \"Hotel\", or \"Backpackers\" etc. The intention on this project is to collect and provide a data driven recommendation that can supplement the recommendation with statistical data. This will also be utilizing data retrieved from Singapore open data sources and FourSquare API venue recommendations.\n",
    "\n",
    "The sample recommender in this notebook will provide the following use case scenario:\n",
    "\n",
    "- A person planning to visit Singapore as a Tourist or an Expat and looking for a reasonable accommodation.\n",
    "- The user wants to receive venue recommendation where he can stay or rent an HDB apartment with close proximity to places of interest or search category option.\n",
    "- The recommendation should not only present the most viable option, but also present a comparison table of all possible town venues.\n",
    "\n",
    "For this demonstration, this notebook will make use of the following data:\n",
    "\n",
    "- Singapore Median Rental Prices by town.\n",
    "- Popular Food venues in the vicinity. (Sample category selection)\n",
    "\n",
    "Note: While this demo makes use of Food Venue Category, Other possible categories can also be used for the same implementation such as checking categories like:\n",
    "\n",
    "Outdoors and Recreation\n",
    "Nightlife\n",
    "Nearby Schools, etc.\n"
   ]
  },
  {
   "cell_type": "markdown",
   "metadata": {},
   "source": [
    "# III. DATA ACQUISITION\n",
    "\n",
    "This demonstration will make use of the following data sources:\n",
    "\n",
    "Singapore Towns and median residential rental prices.\n",
    "\n",
    "Data will retrieved from Singapore open dataset from median rent by town and flattype from https://data.gov.sg website.\n",
    "\n",
    "The original data source contains median rental prices of Singapore HDB units from 2005 up to 2nd quarter of 2018. I will retrieve rental the most recent recorded rental prices from this data source (Q2 2018) being the most relevant price available at this time. For this demonstration, I will simplify the analysis by using the average rental prices of all available flat type.\n",
    "\n",
    "Singapore Towns location data retrieved using Google maps API.\n",
    "\n",
    "Data coordinates of Town Venues will be retrieved using google API. I also make use of MRT stations coordinate as a more important center of for all towns included in venue recommendations.\n",
    "\n",
    "Singapore Top Venue Recommendations from FourSquare API\n",
    "(FourSquare website: www.foursquare.com)\n",
    "\n",
    "I will be using the FourSquare API to explore neighborhoods in selected towns in Singapore. The Foursquare explore function will be used to get the most common venue categories in each neighborhood, and then use this feature to group the neighborhoods into clusters. The following information are retrieved on the first query:\n",
    "\n",
    "Venue ID\n",
    "Venue Name\n",
    "Coordinates : Latitude and Longitude\n",
    "Category Name\n",
    "Another venue query will be performed to retrieve venue ratings for each location. Note that rating information is a paid service from FourSquare and we are limited to only 50 queries per day. With this constraint, we limit the category analysis with only one type for this demo. I will try to retrieve as many ratings as possible for each retrieved venue ID.\n"
   ]
  },
  {
   "cell_type": "code",
   "execution_count": null,
   "metadata": {},
   "outputs": [],
   "source": []
  }
 ],
 "metadata": {
  "kernelspec": {
   "display_name": "Python 3",
   "language": "python",
   "name": "python3"
  },
  "language_info": {
   "codemirror_mode": {
    "name": "ipython",
    "version": 3
   },
   "file_extension": ".py",
   "mimetype": "text/x-python",
   "name": "python",
   "nbconvert_exporter": "python",
   "pygments_lexer": "ipython3",
   "version": "3.7.3"
  }
 },
 "nbformat": 4,
 "nbformat_minor": 2
}
